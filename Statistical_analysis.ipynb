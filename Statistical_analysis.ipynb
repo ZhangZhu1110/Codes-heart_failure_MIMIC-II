{
 "cells": [
  {
   "cell_type": "code",
   "execution_count": 131,
   "id": "d9f28235",
   "metadata": {},
   "outputs": [],
   "source": [
    "import os\n",
    "import numpy as np\n",
    "import pandas as pd\n",
    "import seaborn as sns\n",
    "import matplotlib.pyplot as plt\n",
    "import scipy\n",
    "from scipy.stats import shapiro, ranksums, chisquare\n",
    "os.chdir(r'C:\\Users\\zhang\\Desktop\\Machine Learning\\Project\\data')"
   ]
  },
  {
   "cell_type": "code",
   "execution_count": 2,
   "id": "cc046d83",
   "metadata": {},
   "outputs": [],
   "source": [
    "data = pd.read_csv('ML.csv', index_col = 0)"
   ]
  },
  {
   "cell_type": "code",
   "execution_count": 5,
   "id": "dd4058c3",
   "metadata": {},
   "outputs": [],
   "source": [
    "# create 2 data frame for survival and expired patient\n",
    "data_s = data[data.iloc[:, -1] == 0]\n",
    "data_e = data[data.iloc[:, -1] == 1]"
   ]
  },
  {
   "cell_type": "code",
   "execution_count": 10,
   "id": "aa48f533",
   "metadata": {
    "scrolled": true
   },
   "outputs": [],
   "source": [
    "# define a normalization function and return p value\n",
    "def Normalization_test(df):\n",
    "    pvalue = []\n",
    "    for i in df.columns:\n",
    "        shapiro_test = shapiro(df[i])\n",
    "        pvalue.append(shapiro_test.pvalue)\n",
    "    return pvalue"
   ]
  },
  {
   "cell_type": "code",
   "execution_count": 13,
   "id": "38571ea6",
   "metadata": {},
   "outputs": [
    {
     "data": {
      "text/plain": [
       "[0.0,\n",
       " 0.0,\n",
       " 0.0,\n",
       " 0.0,\n",
       " 0.0,\n",
       " 0.0,\n",
       " 0.0,\n",
       " 0.0,\n",
       " 0.0,\n",
       " 1.2611686178923354e-44,\n",
       " 2.177235214107158e-29,\n",
       " 1.1678770533762872e-05,\n",
       " 0.00011123761214548722,\n",
       " 1.3764400370987525e-17,\n",
       " 2.812216842607224e-38,\n",
       " 2.0388248146095464e-24,\n",
       " 1.1852950645307791e-23,\n",
       " 0.0,\n",
       " 1.1448702229299723e-12,\n",
       " 1.9677433823096862e-19,\n",
       " 1.1689440345069948e-18,\n",
       " 3.4389270271882376e-28,\n",
       " 5.295645420584645e-21,\n",
       " 7.231276108325989e-33,\n",
       " 8.087518014229106e-15,\n",
       " 5.4945599422423597e-39,\n",
       " 2.3745298568107526e-31,\n",
       " 1.401298464324817e-45,\n",
       " 0.0,\n",
       " 0.0,\n",
       " 1.3409765339128847e-36,\n",
       " 1.1587337001501912e-41,\n",
       " 7.006492321624085e-45,\n",
       " 1.761432169656295e-42,\n",
       " 3.5032461608120427e-44,\n",
       " 0.0,\n",
       " 8.948128866075379e-21,\n",
       " 0.0,\n",
       " 4.8199694901995827e-08,\n",
       " 2.906463897942114e-18,\n",
       " 9.646214260201865e-27,\n",
       " 1.1661927025426727e-19,\n",
       " 0.0]"
      ]
     },
     "execution_count": 13,
     "metadata": {},
     "output_type": "execute_result"
    }
   ],
   "source": [
    "Normalization_test(data)"
   ]
  },
  {
   "cell_type": "code",
   "execution_count": null,
   "id": "a7f35707",
   "metadata": {},
   "outputs": [],
   "source": [
    "# all of variables are not normal distributed"
   ]
  },
  {
   "cell_type": "code",
   "execution_count": null,
   "id": "f88b2e0e",
   "metadata": {},
   "outputs": [],
   "source": [
    "# Perform descriptive statistical analysis for all the patients"
   ]
  },
  {
   "cell_type": "code",
   "execution_count": 23,
   "id": "6040d66f",
   "metadata": {},
   "outputs": [],
   "source": [
    "statistic = data.describe()"
   ]
  },
  {
   "cell_type": "code",
   "execution_count": 53,
   "id": "9f014b54",
   "metadata": {
    "scrolled": false
   },
   "outputs": [],
   "source": [
    "# store Interquartile Range for each variable\n",
    "statistic_list = []\n",
    "for i in statistic.columns:\n",
    "    a = round(statistic.loc['50%', i], 2)\n",
    "    b = round(statistic.loc['25%', i], 2)\n",
    "    c = round(statistic.loc['75%', i], 2)\n",
    "    d = str(a) + '(' + str(b) + '-' + str(c) + ')'\n",
    "    statistic_list.append(d)"
   ]
  },
  {
   "cell_type": "code",
   "execution_count": 54,
   "id": "9bacfaad",
   "metadata": {},
   "outputs": [
    {
     "data": {
      "text/plain": [
       "['1.0(0.0-1.0)',\n",
       " '0.0(0.0-1.0)',\n",
       " '0.0(0.0-0.0)',\n",
       " '0.0(0.0-0.0)',\n",
       " '0.0(0.0-0.0)',\n",
       " '0.0(0.0-0.0)',\n",
       " '0.0(0.0-1.0)',\n",
       " '0.0(0.0-0.0)',\n",
       " '0.0(0.0-0.0)',\n",
       " '1.32(0.91-2.05)',\n",
       " '33.5(23.25-49.67)',\n",
       " '139.2(136.89-141.34)',\n",
       " '103.2(100.08-106.29)',\n",
       " '25.25(22.95-27.81)',\n",
       " '129.58(113.25-150.0)',\n",
       " '14.26(12.78-16.19)',\n",
       " '217.13(165.18-278.32)',\n",
       " '10.76(8.28-13.52)',\n",
       " '33.25(32.47-33.93)',\n",
       " '3.5(3.26-3.79)',\n",
       " '90.4(86.88-93.88)',\n",
       " '15.65(14.52-16.91)',\n",
       " '2.02(1.9-2.16)',\n",
       " '7.37(7.34-7.41)',\n",
       " '8.47(8.12-8.8)',\n",
       " '42.33(37.5-46.88)',\n",
       " '115.13(94.25-140.75)',\n",
       " '14.57(13.53-16.75)',\n",
       " '98.91(54.67-197.5)',\n",
       " '1.94(1.58-2.53)',\n",
       " '0.25(0.13-0.4)',\n",
       " '79.65(73.4-85.0)',\n",
       " '10.92(7.46-15.88)',\n",
       " '4.66(3.58-5.73)',\n",
       " '1.02(0.45-1.95)',\n",
       " '1.0(0.11-2.57)',\n",
       " '36.69(36.4-36.98)',\n",
       " '97.0(96.1-97.75)',\n",
       " '84.76(76.1-92.58)',\n",
       " '20.4(18.08-22.44)',\n",
       " '73.67(69.48-76.92)',\n",
       " '79.0(70.0-86.0)',\n",
       " '0.0(0.0-1.0)']"
      ]
     },
     "execution_count": 54,
     "metadata": {},
     "output_type": "execute_result"
    }
   ],
   "source": [
    "statistic_list"
   ]
  },
  {
   "cell_type": "code",
   "execution_count": 80,
   "id": "b4c7ebfa",
   "metadata": {
    "scrolled": true
   },
   "outputs": [],
   "source": [
    "# store descriptive statistic for categorical variable\n",
    "df_list = []\n",
    "for i in [0, 1, 2, 3, 4, 5, 6, 7, 8, -1]:\n",
    "    df_list.append(data.iloc[:, i].value_counts())\n",
    "result = pd.DataFrame(df_list)"
   ]
  },
  {
   "cell_type": "code",
   "execution_count": 81,
   "id": "7ab0ea51",
   "metadata": {},
   "outputs": [
    {
     "data": {
      "text/html": [
       "<div>\n",
       "<style scoped>\n",
       "    .dataframe tbody tr th:only-of-type {\n",
       "        vertical-align: middle;\n",
       "    }\n",
       "\n",
       "    .dataframe tbody tr th {\n",
       "        vertical-align: top;\n",
       "    }\n",
       "\n",
       "    .dataframe thead th {\n",
       "        text-align: right;\n",
       "    }\n",
       "</style>\n",
       "<table border=\"1\" class=\"dataframe\">\n",
       "  <thead>\n",
       "    <tr style=\"text-align: right;\">\n",
       "      <th></th>\n",
       "      <th>1</th>\n",
       "      <th>0</th>\n",
       "    </tr>\n",
       "  </thead>\n",
       "  <tbody>\n",
       "    <tr>\n",
       "      <th>sex</th>\n",
       "      <td>824</td>\n",
       "      <td>769</td>\n",
       "    </tr>\n",
       "    <tr>\n",
       "      <th>cardiac_arrhythmias</th>\n",
       "      <td>536</td>\n",
       "      <td>1057</td>\n",
       "    </tr>\n",
       "    <tr>\n",
       "      <th>valvular_disease</th>\n",
       "      <td>244</td>\n",
       "      <td>1349</td>\n",
       "    </tr>\n",
       "    <tr>\n",
       "      <th>pulmonary_circulation</th>\n",
       "      <td>79</td>\n",
       "      <td>1514</td>\n",
       "    </tr>\n",
       "    <tr>\n",
       "      <th>peripheral_vascular</th>\n",
       "      <td>170</td>\n",
       "      <td>1423</td>\n",
       "    </tr>\n",
       "    <tr>\n",
       "      <th>hypertension</th>\n",
       "      <td>370</td>\n",
       "      <td>1223</td>\n",
       "    </tr>\n",
       "    <tr>\n",
       "      <th>chronic_pulmonary</th>\n",
       "      <td>444</td>\n",
       "      <td>1149</td>\n",
       "    </tr>\n",
       "    <tr>\n",
       "      <th>diabetes_uncomplicated</th>\n",
       "      <td>345</td>\n",
       "      <td>1248</td>\n",
       "    </tr>\n",
       "    <tr>\n",
       "      <th>diabetes_complicated</th>\n",
       "      <td>146</td>\n",
       "      <td>1447</td>\n",
       "    </tr>\n",
       "    <tr>\n",
       "      <th>hospital_expire_flg</th>\n",
       "      <td>626</td>\n",
       "      <td>967</td>\n",
       "    </tr>\n",
       "  </tbody>\n",
       "</table>\n",
       "</div>"
      ],
      "text/plain": [
       "                          1     0\n",
       "sex                     824   769\n",
       "cardiac_arrhythmias     536  1057\n",
       "valvular_disease        244  1349\n",
       "pulmonary_circulation    79  1514\n",
       "peripheral_vascular     170  1423\n",
       "hypertension            370  1223\n",
       "chronic_pulmonary       444  1149\n",
       "diabetes_uncomplicated  345  1248\n",
       "diabetes_complicated    146  1447\n",
       "hospital_expire_flg     626   967"
      ]
     },
     "execution_count": 81,
     "metadata": {},
     "output_type": "execute_result"
    }
   ],
   "source": [
    "result"
   ]
  },
  {
   "cell_type": "code",
   "execution_count": 82,
   "id": "2bf0d2e7",
   "metadata": {},
   "outputs": [],
   "source": [
    "# calculate proportion for categorical variables\n",
    "result['Percentage 1'] = result[1] / (result[1] + result[0])"
   ]
  },
  {
   "cell_type": "code",
   "execution_count": 84,
   "id": "93a5f4ab",
   "metadata": {},
   "outputs": [
    {
     "data": {
      "text/html": [
       "<div>\n",
       "<style scoped>\n",
       "    .dataframe tbody tr th:only-of-type {\n",
       "        vertical-align: middle;\n",
       "    }\n",
       "\n",
       "    .dataframe tbody tr th {\n",
       "        vertical-align: top;\n",
       "    }\n",
       "\n",
       "    .dataframe thead th {\n",
       "        text-align: right;\n",
       "    }\n",
       "</style>\n",
       "<table border=\"1\" class=\"dataframe\">\n",
       "  <thead>\n",
       "    <tr style=\"text-align: right;\">\n",
       "      <th></th>\n",
       "      <th>1</th>\n",
       "      <th>0</th>\n",
       "      <th>Percentage 1</th>\n",
       "      <th>Percentage 0</th>\n",
       "    </tr>\n",
       "  </thead>\n",
       "  <tbody>\n",
       "    <tr>\n",
       "      <th>sex</th>\n",
       "      <td>824</td>\n",
       "      <td>769</td>\n",
       "      <td>0.517263</td>\n",
       "      <td>0.482737</td>\n",
       "    </tr>\n",
       "    <tr>\n",
       "      <th>cardiac_arrhythmias</th>\n",
       "      <td>536</td>\n",
       "      <td>1057</td>\n",
       "      <td>0.336472</td>\n",
       "      <td>0.663528</td>\n",
       "    </tr>\n",
       "    <tr>\n",
       "      <th>valvular_disease</th>\n",
       "      <td>244</td>\n",
       "      <td>1349</td>\n",
       "      <td>0.153170</td>\n",
       "      <td>0.846830</td>\n",
       "    </tr>\n",
       "    <tr>\n",
       "      <th>pulmonary_circulation</th>\n",
       "      <td>79</td>\n",
       "      <td>1514</td>\n",
       "      <td>0.049592</td>\n",
       "      <td>0.950408</td>\n",
       "    </tr>\n",
       "    <tr>\n",
       "      <th>peripheral_vascular</th>\n",
       "      <td>170</td>\n",
       "      <td>1423</td>\n",
       "      <td>0.106717</td>\n",
       "      <td>0.893283</td>\n",
       "    </tr>\n",
       "    <tr>\n",
       "      <th>hypertension</th>\n",
       "      <td>370</td>\n",
       "      <td>1223</td>\n",
       "      <td>0.232266</td>\n",
       "      <td>0.767734</td>\n",
       "    </tr>\n",
       "    <tr>\n",
       "      <th>chronic_pulmonary</th>\n",
       "      <td>444</td>\n",
       "      <td>1149</td>\n",
       "      <td>0.278719</td>\n",
       "      <td>0.721281</td>\n",
       "    </tr>\n",
       "    <tr>\n",
       "      <th>diabetes_uncomplicated</th>\n",
       "      <td>345</td>\n",
       "      <td>1248</td>\n",
       "      <td>0.216573</td>\n",
       "      <td>0.783427</td>\n",
       "    </tr>\n",
       "    <tr>\n",
       "      <th>diabetes_complicated</th>\n",
       "      <td>146</td>\n",
       "      <td>1447</td>\n",
       "      <td>0.091651</td>\n",
       "      <td>0.908349</td>\n",
       "    </tr>\n",
       "    <tr>\n",
       "      <th>hospital_expire_flg</th>\n",
       "      <td>626</td>\n",
       "      <td>967</td>\n",
       "      <td>0.392969</td>\n",
       "      <td>0.607031</td>\n",
       "    </tr>\n",
       "  </tbody>\n",
       "</table>\n",
       "</div>"
      ],
      "text/plain": [
       "                          1     0  Percentage 1  Percentage 0\n",
       "sex                     824   769      0.517263      0.482737\n",
       "cardiac_arrhythmias     536  1057      0.336472      0.663528\n",
       "valvular_disease        244  1349      0.153170      0.846830\n",
       "pulmonary_circulation    79  1514      0.049592      0.950408\n",
       "peripheral_vascular     170  1423      0.106717      0.893283\n",
       "hypertension            370  1223      0.232266      0.767734\n",
       "chronic_pulmonary       444  1149      0.278719      0.721281\n",
       "diabetes_uncomplicated  345  1248      0.216573      0.783427\n",
       "diabetes_complicated    146  1447      0.091651      0.908349\n",
       "hospital_expire_flg     626   967      0.392969      0.607031"
      ]
     },
     "execution_count": 84,
     "metadata": {},
     "output_type": "execute_result"
    }
   ],
   "source": [
    "result['Percentage 0'] = 1 - result['Percentage 1']\n",
    "result"
   ]
  },
  {
   "cell_type": "code",
   "execution_count": 85,
   "id": "8e005175",
   "metadata": {},
   "outputs": [],
   "source": [
    "result.to_csv('Categorical.csv', index = True)"
   ]
  },
  {
   "cell_type": "code",
   "execution_count": 101,
   "id": "bf1c5a49",
   "metadata": {},
   "outputs": [],
   "source": [
    "statistic = statistic.T\n",
    "statistic['result'] = statistic_list"
   ]
  },
  {
   "cell_type": "code",
   "execution_count": 105,
   "id": "b56d4933",
   "metadata": {},
   "outputs": [],
   "source": [
    "statistic.drop(statistic.index[[0, 1, 2, 3, 4, 5, 6, 7, 8, -1]], axis = 0).to_csv('Continuous.csv', index = True)"
   ]
  },
  {
   "cell_type": "code",
   "execution_count": null,
   "id": "268ea2af",
   "metadata": {},
   "outputs": [],
   "source": []
  },
  {
   "cell_type": "code",
   "execution_count": null,
   "id": "e9455051",
   "metadata": {},
   "outputs": [],
   "source": [
    "# Statistical analysis"
   ]
  },
  {
   "cell_type": "code",
   "execution_count": 109,
   "id": "f3e2e64d",
   "metadata": {
    "scrolled": true
   },
   "outputs": [],
   "source": [
    "# create 2 data frame for continuous variables\n",
    "data_s_c = data_s.drop(data_s.columns[[0, 1, 2, 3, 4, 5, 6, 7, 8, -1]], axis = 1)\n",
    "data_e_c = data_e.drop(data_e.columns[[0, 1, 2, 3, 4, 5, 6, 7, 8, -1]], axis = 1)"
   ]
  },
  {
   "cell_type": "code",
   "execution_count": 114,
   "id": "277768bb",
   "metadata": {},
   "outputs": [
    {
     "data": {
      "text/plain": [
       "[0.0,\n",
       " 0.0,\n",
       " 0.086,\n",
       " 0.0,\n",
       " 0.0,\n",
       " 0.0,\n",
       " 0.0,\n",
       " 0.0,\n",
       " 0.0,\n",
       " 0.065,\n",
       " 0.002,\n",
       " 0.001,\n",
       " 0.0,\n",
       " 0.0,\n",
       " 0.0,\n",
       " 0.0,\n",
       " 0.125,\n",
       " 0.064,\n",
       " 0.0,\n",
       " 0.022,\n",
       " 0.0,\n",
       " 0.0,\n",
       " 0.001,\n",
       " 0.0,\n",
       " 0.0,\n",
       " 0.0,\n",
       " 0.0,\n",
       " 0.578,\n",
       " 0.0,\n",
       " 0.0,\n",
       " 0.001,\n",
       " 0.0,\n",
       " 0.548]"
      ]
     },
     "execution_count": 114,
     "metadata": {},
     "output_type": "execute_result"
    }
   ],
   "source": [
    "# perform wilcoxon rank sum test\n",
    "wilcoxon = []\n",
    "for i in data_s_c.columns:\n",
    "    group1 = data_s_c[i]\n",
    "    group2 = data_e_c[i]\n",
    "    _, p = ranksums(group1, group2)\n",
    "    wilcoxon.append(round(p, 3))\n",
    "wilcoxon"
   ]
  },
  {
   "cell_type": "code",
   "execution_count": 123,
   "id": "54e69f4b",
   "metadata": {
    "scrolled": true
   },
   "outputs": [],
   "source": [
    "# create 2 data frame for categorical variables\n",
    "data_s_categorical = data_s.iloc[:, [0, 1, 2, 3, 4, 5, 6, 7, 8]]\n",
    "data_e_categorical = data_e.iloc[:, [0, 1, 2, 3, 4, 5, 6, 7, 8]]"
   ]
  },
  {
   "cell_type": "code",
   "execution_count": 148,
   "id": "b8ea19a9",
   "metadata": {
    "scrolled": true
   },
   "outputs": [],
   "source": [
    "# perform chi_square test for categorical variable\n",
    "chi = []\n",
    "\n",
    "for i in data_s_categorical.columns:\n",
    "    a = data_s_categorical[data_s_categorical[i] == 1].shape[0] / data_s_categorical.shape[0]\n",
    "    b = 1 - a\n",
    "    c = data_e_categorical[data_e_categorical[i] == 1].shape[0]/data_e_categorical.shape[0]\n",
    "    d = 1 - c\n",
    "    _, p = chisquare([a, b], [c, d])\n",
    "    chi.append(round(p, 3))"
   ]
  },
  {
   "cell_type": "code",
   "execution_count": 134,
   "id": "8743b609",
   "metadata": {},
   "outputs": [],
   "source": [
    "pd.DataFrame(wilcoxon).to_csv('Wilcoxon.csv')\n",
    "pd.DataFrame(chi).to_csv('ChiSquare.csv')"
   ]
  },
  {
   "cell_type": "code",
   "execution_count": 136,
   "id": "e307316d",
   "metadata": {
    "scrolled": true
   },
   "outputs": [],
   "source": [
    "# calculate descriptive statistic for each group\n",
    "sta_sur = data_s_c.describe()\n",
    "sta_exp = data_e_c.describe()"
   ]
  },
  {
   "cell_type": "code",
   "execution_count": 137,
   "id": "f75bd1a3",
   "metadata": {},
   "outputs": [],
   "source": [
    "statistic_sur = []\n",
    "for i in sta_sur.columns:\n",
    "    a = round(sta_sur.loc['50%', i], 2)\n",
    "    b = round(sta_sur.loc['25%', i], 2)\n",
    "    c = round(sta_sur.loc['75%', i], 2)\n",
    "    d = str(a) + '(' + str(b) + '-' + str(c) + ')'\n",
    "    statistic_sur.append(d)"
   ]
  },
  {
   "cell_type": "code",
   "execution_count": 138,
   "id": "72fc5c4c",
   "metadata": {},
   "outputs": [],
   "source": [
    "statistic_exp = []\n",
    "for i in sta_exp.columns:\n",
    "    a = round(sta_exp.loc['50%', i], 2)\n",
    "    b = round(sta_exp.loc['25%', i], 2)\n",
    "    c = round(sta_exp.loc['75%', i], 2)\n",
    "    d = str(a) + '(' + str(b) + '-' + str(c) + ')'\n",
    "    statistic_exp.append(d)"
   ]
  },
  {
   "cell_type": "code",
   "execution_count": 140,
   "id": "5f3c968e",
   "metadata": {},
   "outputs": [],
   "source": [
    "pd.DataFrame(statistic_sur).to_csv('continuous_survive.csv')\n",
    "pd.DataFrame(statistic_exp).to_csv('continuous_expire.csv')"
   ]
  },
  {
   "cell_type": "code",
   "execution_count": 142,
   "id": "fdb6c150",
   "metadata": {},
   "outputs": [
    {
     "data": {
      "text/plain": [
       "(626, 43)"
      ]
     },
     "execution_count": 142,
     "metadata": {},
     "output_type": "execute_result"
    }
   ],
   "source": [
    "data_e.shape"
   ]
  }
 ],
 "metadata": {
  "kernelspec": {
   "display_name": "Python 3 (ipykernel)",
   "language": "python",
   "name": "python3"
  },
  "language_info": {
   "codemirror_mode": {
    "name": "ipython",
    "version": 3
   },
   "file_extension": ".py",
   "mimetype": "text/x-python",
   "name": "python",
   "nbconvert_exporter": "python",
   "pygments_lexer": "ipython3",
   "version": "3.9.12"
  }
 },
 "nbformat": 4,
 "nbformat_minor": 5
}
